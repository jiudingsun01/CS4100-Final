{
 "cells": [
  {
   "cell_type": "code",
   "execution_count": 1,
   "metadata": {},
   "outputs": [],
   "source": [
    "import math\n",
    "import random\n",
    "\n",
    "def run(start_ticket_num=5, lose_prob=0.75, win_prob=0.25):\n",
    "    \n",
    "    play_count = 0\n",
    "    \n",
    "    ticket_count = start_ticket_num\n",
    "    \n",
    "    while ticket_count > 0:\n",
    "        \n",
    "        play_count += 1\n",
    "        \n",
    "        if random.random() < lose_prob:\n",
    "            ticket_count -= 1\n",
    "        else:\n",
    "            ticket_count += 1\n",
    "    \n",
    "    return play_count"
   ]
  },
  {
   "cell_type": "code",
   "execution_count": 103,
   "metadata": {},
   "outputs": [],
   "source": [
    "def get_prob(x):\n",
    "    return math.pow(3, 4) * math.factorial(x-1) / (2 * math.pow(4, x+1) * math.factorial(x-5))\n",
    "\n",
    "def get_prob_2(x):\n",
    "    return math.pow(3/4, 5) * math.pow(1/4, x-5) * (math.comb(x, x-5) - math.comb(x-1, x-6))\n",
    "\n",
    "def get_prob_3(x):\n",
    "    if x % 2 == 0:\n",
    "        return 0\n",
    "    else:\n",
    "        k = int((x - 1) / 2)\n",
    "        \n",
    "        return math.pow(3/4, k+3) * math.pow(1/4, k-2) * 5 * math.comb(2*k-6, k-3)"
   ]
  },
  {
   "cell_type": "code",
   "execution_count": 72,
   "metadata": {},
   "outputs": [
    {
     "name": "stderr",
     "output_type": "stream",
     "text": [
      "100%|██████████| 1000000/1000000 [00:01<00:00, 613127.13it/s]\n"
     ]
    }
   ],
   "source": [
    "trials = []\n",
    "\n",
    "import tqdm\n",
    "\n",
    "for i in tqdm.tqdm(range(1000000)):\n",
    "    trials.append(run())\n"
   ]
  },
  {
   "cell_type": "code",
   "execution_count": 97,
   "metadata": {},
   "outputs": [
    {
     "name": "stdout",
     "output_type": "stream",
     "text": [
      "Average number of plays:  9.999184\n"
     ]
    }
   ],
   "source": [
    "print(\"Average number of plays: \", sum(trials) / len(trials))"
   ]
  },
  {
   "cell_type": "code",
   "execution_count": 96,
   "metadata": {},
   "outputs": [
    {
     "name": "stdout",
     "output_type": "stream",
     "text": [
      "Expected number of plays:  4.449462890617106\n"
     ]
    }
   ],
   "source": [
    "print(\"Expected number of plays: \", sum([x * get_prob_3(x) for x in range(7, 200)]))"
   ]
  },
  {
   "cell_type": "code",
   "execution_count": 93,
   "metadata": {},
   "outputs": [
    {
     "data": {
      "text/plain": [
       "(0.012166500091552734, 0.012166500091552734, 0.15642642974853516)"
      ]
     },
     "execution_count": 93,
     "metadata": {},
     "output_type": "execute_result"
    }
   ],
   "source": [
    "get_prob_2(11), get_prob(11), get_prob_3(11)"
   ]
  },
  {
   "cell_type": "code",
   "execution_count": 105,
   "metadata": {},
   "outputs": [
    {
     "data": {
      "text/plain": [
       "1001.0061757079036"
      ]
     },
     "execution_count": 105,
     "metadata": {},
     "output_type": "execute_result"
    }
   ],
   "source": [
    "0.037533 / (math.pow(3/4, 11) * math.pow(1/4, 5) * 5)"
   ]
  },
  {
   "cell_type": "code",
   "execution_count": null,
   "metadata": {},
   "outputs": [],
   "source": []
  }
 ],
 "metadata": {
  "kernelspec": {
   "display_name": "subspace",
   "language": "python",
   "name": "python3"
  },
  "language_info": {
   "codemirror_mode": {
    "name": "ipython",
    "version": 3
   },
   "file_extension": ".py",
   "mimetype": "text/x-python",
   "name": "python",
   "nbconvert_exporter": "python",
   "pygments_lexer": "ipython3",
   "version": "3.10.14"
  }
 },
 "nbformat": 4,
 "nbformat_minor": 2
}
